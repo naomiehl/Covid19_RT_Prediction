{
 "cells": [
  {
   "cell_type": "markdown",
   "metadata": {},
   "source": [
    "# LogisticRegression"
   ]
  },
  {
   "cell_type": "markdown",
   "metadata": {},
   "source": [
    "## Import and Load Data Set"
   ]
  },
  {
   "cell_type": "code",
   "execution_count": 21,
   "metadata": {
    "ExecuteTime": {
     "end_time": "2020-11-23T16:08:00.026701Z",
     "start_time": "2020-11-23T16:08:00.007774Z"
    },
    "run_control": {
     "marked": false
    }
   },
   "outputs": [],
   "source": [
    "import pandas as pd\n",
    "import numpy as np\n",
    "import seaborn as sns\n",
    "from sklearn import metrics\n",
    "from sklearn.feature_selection import RFE\n",
    "from verstack.stratified_continuous_split import scsplit \n",
    "from datetime import datetime\n",
    "from pandas import DataFrame\n",
    "from sklearn.metrics import mean_absolute_error\n",
    "from sklearn.metrics import precision_recall_fscore_support as score, precision_score, recall_score, f1_score\n",
    "from sklearn.preprocessing import LabelEncoder, StandardScaler\n",
    "import sklearn.decomposition as skdc\n",
    "from sklearn.metrics import classification_report, confusion_matrix, accuracy_score\n",
    "from sklearn.linear_model import LogisticRegression\n",
    "import sklearn.linear_model as sklm \n",
    "import sklearn.pipeline as skpl\n",
    "import re\n",
    "import matplotlib.pyplot as plt"
   ]
  },
  {
   "cell_type": "code",
   "execution_count": 22,
   "metadata": {
    "ExecuteTime": {
     "end_time": "2020-11-23T16:08:03.232625Z",
     "start_time": "2020-11-23T16:08:00.498084Z"
    }
   },
   "outputs": [
    {
     "data": {
      "text/html": [
       "<div>\n",
       "<style scoped>\n",
       "    .dataframe tbody tr th:only-of-type {\n",
       "        vertical-align: middle;\n",
       "    }\n",
       "\n",
       "    .dataframe tbody tr th {\n",
       "        vertical-align: top;\n",
       "    }\n",
       "\n",
       "    .dataframe thead th {\n",
       "        text-align: right;\n",
       "    }\n",
       "</style>\n",
       "<table border=\"1\" class=\"dataframe\">\n",
       "  <thead>\n",
       "    <tr style=\"text-align: right;\">\n",
       "      <th></th>\n",
       "      <th>id</th>\n",
       "      <th>timestamp</th>\n",
       "      <th>retweet_count</th>\n",
       "      <th>user_verified</th>\n",
       "      <th>user_statuses_count</th>\n",
       "      <th>user_followers_count</th>\n",
       "      <th>user_friends_count</th>\n",
       "      <th>user_mentions</th>\n",
       "      <th>urls</th>\n",
       "      <th>hashtags</th>\n",
       "      <th>text</th>\n",
       "    </tr>\n",
       "  </thead>\n",
       "  <tbody>\n",
       "    <tr>\n",
       "      <th>665774</th>\n",
       "      <td>665774</td>\n",
       "      <td>1588353174952</td>\n",
       "      <td>8</td>\n",
       "      <td>False</td>\n",
       "      <td>888</td>\n",
       "      <td>85</td>\n",
       "      <td>257</td>\n",
       "      <td>NaN</td>\n",
       "      <td>twitter.com/i/web/status/1…</td>\n",
       "      <td>NaN</td>\n",
       "      <td>'Post it' pearls for Palliative, End of Life a...</td>\n",
       "    </tr>\n",
       "    <tr>\n",
       "      <th>665775</th>\n",
       "      <td>665775</td>\n",
       "      <td>1588691378352</td>\n",
       "      <td>0</td>\n",
       "      <td>False</td>\n",
       "      <td>452</td>\n",
       "      <td>38</td>\n",
       "      <td>91</td>\n",
       "      <td>NaN</td>\n",
       "      <td>NaN</td>\n",
       "      <td>NaN</td>\n",
       "      <td>His facial expressions are kind of looking for...</td>\n",
       "    </tr>\n",
       "    <tr>\n",
       "      <th>665776</th>\n",
       "      <td>665776</td>\n",
       "      <td>1588432578764</td>\n",
       "      <td>0</td>\n",
       "      <td>False</td>\n",
       "      <td>590</td>\n",
       "      <td>184</td>\n",
       "      <td>238</td>\n",
       "      <td>NaN</td>\n",
       "      <td>NaN</td>\n",
       "      <td>NaN</td>\n",
       "      <td>We really can't wait.</td>\n",
       "    </tr>\n",
       "  </tbody>\n",
       "</table>\n",
       "</div>"
      ],
      "text/plain": [
       "            id      timestamp  retweet_count  user_verified  \\\n",
       "665774  665774  1588353174952              8          False   \n",
       "665775  665775  1588691378352              0          False   \n",
       "665776  665776  1588432578764              0          False   \n",
       "\n",
       "        user_statuses_count  user_followers_count  user_friends_count  \\\n",
       "665774                  888                    85                 257   \n",
       "665775                  452                    38                  91   \n",
       "665776                  590                   184                 238   \n",
       "\n",
       "       user_mentions                         urls hashtags  \\\n",
       "665774           NaN  twitter.com/i/web/status/1…      NaN   \n",
       "665775           NaN                          NaN      NaN   \n",
       "665776           NaN                          NaN      NaN   \n",
       "\n",
       "                                                     text  \n",
       "665774  'Post it' pearls for Palliative, End of Life a...  \n",
       "665775  His facial expressions are kind of looking for...  \n",
       "665776                              We really can't wait.  "
      ]
     },
     "execution_count": 22,
     "metadata": {},
     "output_type": "execute_result"
    }
   ],
   "source": [
    "# Load the training data\n",
    "train_data = pd.read_csv(\"data/train.csv\")\n",
    "# Load the evaluation data\n",
    "eval_data = pd.read_csv(\"data/evaluation.csv\")\n",
    "train_data.tail(3)"
   ]
  },
  {
   "cell_type": "markdown",
   "metadata": {},
   "source": [
    "## 2. Target Variable"
   ]
  },
  {
   "cell_type": "code",
   "execution_count": 23,
   "metadata": {
    "ExecuteTime": {
     "end_time": "2020-11-23T16:08:03.649805Z",
     "start_time": "2020-11-23T16:08:03.538720Z"
    }
   },
   "outputs": [],
   "source": [
    "#target variable -> 0 no retweet, 1 retweet\n",
    "train_data.drop('retweet_count',axis=1)\n",
    "train_data = train_data.assign(retweet_bin=(train_data['retweet_count'] > 0 ).astype(int))"
   ]
  },
  {
   "cell_type": "code",
   "execution_count": 24,
   "metadata": {
    "ExecuteTime": {
     "end_time": "2020-11-23T16:08:04.087122Z",
     "start_time": "2020-11-23T16:08:04.059249Z"
    }
   },
   "outputs": [
    {
     "data": {
      "text/plain": [
       "count    665777.000000\n",
       "mean          0.364948\n",
       "std           0.481416\n",
       "min           0.000000\n",
       "25%           0.000000\n",
       "50%           0.000000\n",
       "75%           1.000000\n",
       "max           1.000000\n",
       "Name: retweet_bin, dtype: float64"
      ]
     },
     "execution_count": 24,
     "metadata": {},
     "output_type": "execute_result"
    }
   ],
   "source": [
    "train_data[\"retweet_bin\"].describe()"
   ]
  },
  {
   "cell_type": "code",
   "execution_count": 25,
   "metadata": {
    "ExecuteTime": {
     "end_time": "2020-11-23T16:08:04.623531Z",
     "start_time": "2020-11-23T16:08:04.443688Z"
    }
   },
   "outputs": [
    {
     "name": "stdout",
     "output_type": "stream",
     "text": [
      "percentage of no click is 64\n",
      "percentage of click is 36\n"
     ]
    }
   ],
   "source": [
    "count_no_RT = len(train_data[train_data['retweet_bin']==0])\n",
    "count_RT = len(train_data[train_data['retweet_bin']==1])\n",
    "pct_of_no_RT = count_no_RT/(count_no_RT+count_RT)\n",
    "print(\"percentage of no click is\", round(pct_of_no_RT*100))\n",
    "pct_of_RT = count_RT/(count_no_RT+count_RT)\n",
    "print(\"percentage of click is\", round(pct_of_RT*100))"
   ]
  },
  {
   "cell_type": "markdown",
   "metadata": {},
   "source": [
    "* Our classes are imbalanced, and the ratio of no-subscription to subscription instances is 63:46. Before we go ahead to balance the classes, let’s do some more exploration."
   ]
  },
  {
   "cell_type": "code",
   "execution_count": 26,
   "metadata": {
    "ExecuteTime": {
     "end_time": "2020-11-23T16:08:05.083039Z",
     "start_time": "2020-11-23T16:08:04.970050Z"
    }
   },
   "outputs": [
    {
     "data": {
      "text/html": [
       "<div>\n",
       "<style scoped>\n",
       "    .dataframe tbody tr th:only-of-type {\n",
       "        vertical-align: middle;\n",
       "    }\n",
       "\n",
       "    .dataframe tbody tr th {\n",
       "        vertical-align: top;\n",
       "    }\n",
       "\n",
       "    .dataframe thead th {\n",
       "        text-align: right;\n",
       "    }\n",
       "</style>\n",
       "<table border=\"1\" class=\"dataframe\">\n",
       "  <thead>\n",
       "    <tr style=\"text-align: right;\">\n",
       "      <th></th>\n",
       "      <th>id</th>\n",
       "      <th>timestamp</th>\n",
       "      <th>retweet_count</th>\n",
       "      <th>user_verified</th>\n",
       "      <th>user_statuses_count</th>\n",
       "      <th>user_followers_count</th>\n",
       "      <th>user_friends_count</th>\n",
       "    </tr>\n",
       "    <tr>\n",
       "      <th>retweet_bin</th>\n",
       "      <th></th>\n",
       "      <th></th>\n",
       "      <th></th>\n",
       "      <th></th>\n",
       "      <th></th>\n",
       "      <th></th>\n",
       "      <th></th>\n",
       "    </tr>\n",
       "  </thead>\n",
       "  <tbody>\n",
       "    <tr>\n",
       "      <th>0</th>\n",
       "      <td>332823.257449</td>\n",
       "      <td>1.588504e+12</td>\n",
       "      <td>0.000000</td>\n",
       "      <td>0.021637</td>\n",
       "      <td>32939.140042</td>\n",
       "      <td>6118.224076</td>\n",
       "      <td>1561.499812</td>\n",
       "    </tr>\n",
       "    <tr>\n",
       "      <th>1</th>\n",
       "      <td>333000.659564</td>\n",
       "      <td>1.588492e+12</td>\n",
       "      <td>404.680637</td>\n",
       "      <td>0.327591</td>\n",
       "      <td>56870.797143</td>\n",
       "      <td>627768.183106</td>\n",
       "      <td>4799.307728</td>\n",
       "    </tr>\n",
       "  </tbody>\n",
       "</table>\n",
       "</div>"
      ],
      "text/plain": [
       "                        id     timestamp  retweet_count  user_verified  \\\n",
       "retweet_bin                                                              \n",
       "0            332823.257449  1.588504e+12       0.000000       0.021637   \n",
       "1            333000.659564  1.588492e+12     404.680637       0.327591   \n",
       "\n",
       "             user_statuses_count  user_followers_count  user_friends_count  \n",
       "retweet_bin                                                                 \n",
       "0                   32939.140042           6118.224076         1561.499812  \n",
       "1                   56870.797143         627768.183106         4799.307728  "
      ]
     },
     "execution_count": 26,
     "metadata": {},
     "output_type": "execute_result"
    }
   ],
   "source": [
    "train_data.groupby('retweet_bin').mean()"
   ]
  },
  {
   "cell_type": "markdown",
   "metadata": {},
   "source": [
    "First observation :<br>\n",
    "* La moyenne des followers augmente quand notre tweet a ete RT\n",
    "* La moyenne des amis augmente quand notre tweet a ete RT\n",
    "* L'utilisateur a plus tendance a etre verifie lorsque son tweet a ete RT"
   ]
  },
  {
   "cell_type": "markdown",
   "metadata": {},
   "source": [
    "## Random UnderSampling"
   ]
  },
  {
   "cell_type": "code",
   "execution_count": 27,
   "metadata": {
    "ExecuteTime": {
     "end_time": "2020-11-23T16:08:06.235945Z",
     "start_time": "2020-11-23T16:08:05.426382Z"
    }
   },
   "outputs": [
    {
     "name": "stdout",
     "output_type": "stream",
     "text": [
      "total class of 1 and0: 1    242974\n",
      "0    242974\n",
      "Name: retweet_bin, dtype: int64\n"
     ]
    },
    {
     "data": {
      "text/plain": [
       "<matplotlib.axes._subplots.AxesSubplot at 0x7f916d086c40>"
      ]
     },
     "execution_count": 27,
     "metadata": {},
     "output_type": "execute_result"
    },
    {
     "data": {
      "image/png": "[encoded data removed]",
      "text/plain": [
       "<Figure size 432x288 with 1 Axes>"
      ]
     },
     "metadata": {
      "needs_background": "light"
     },
     "output_type": "display_data"
    }
   ],
   "source": [
    "class_count_0, class_count_1 = train_data['retweet_bin'].value_counts()\n",
    "class_0 = train_data[train_data['retweet_bin'] == 0]\n",
    "class_1 = train_data[train_data['retweet_bin'] == 1]\n",
    "\n",
    "class_0_under = class_0.sample(class_count_1)\n",
    "\n",
    "test_under = pd.concat([class_0_under, class_1], axis=0)\n",
    "\n",
    "print(\"total class of 1 and0:\",test_under['retweet_bin'].value_counts())\n",
    "# plot the count after under-sampeling\n",
    "test_under['retweet_bin'].value_counts().plot(kind='bar', title='count (target)')"
   ]
  },
  {
   "cell_type": "markdown",
   "metadata": {},
   "source": [
    "## Encode the object Value "
   ]
  },
  {
   "cell_type": "code",
   "execution_count": 28,
   "metadata": {
    "ExecuteTime": {
     "end_time": "2020-11-23T16:08:06.600100Z",
     "start_time": "2020-11-23T16:08:06.594787Z"
    },
    "run_control": {
     "marked": false
    },
    "scrolled": true
   },
   "outputs": [
    {
     "data": {
      "text/plain": [
       "id                       int64\n",
       "timestamp                int64\n",
       "retweet_count            int64\n",
       "user_verified             bool\n",
       "user_statuses_count      int64\n",
       "user_followers_count     int64\n",
       "user_friends_count       int64\n",
       "user_mentions           object\n",
       "urls                    object\n",
       "hashtags                object\n",
       "text                    object\n",
       "retweet_bin              int64\n",
       "dtype: object"
      ]
     },
     "execution_count": 28,
     "metadata": {},
     "output_type": "execute_result"
    }
   ],
   "source": [
    "train_data.dtypes"
   ]
  },
  {
   "cell_type": "code",
   "execution_count": 29,
   "metadata": {
    "ExecuteTime": {
     "end_time": "2020-11-23T16:08:07.682735Z",
     "start_time": "2020-11-23T16:08:07.077600Z"
    }
   },
   "outputs": [],
   "source": [
    "# count the number of hashtag\n",
    "train_data['totalhashtag'] = train_data['hashtags'].str.split().str.len()\n",
    "train_data['totalhashtag'] = train_data['totalhashtag'].fillna(0)"
   ]
  },
  {
   "cell_type": "code",
   "execution_count": 30,
   "metadata": {
    "ExecuteTime": {
     "end_time": "2020-11-23T16:08:11.730895Z",
     "start_time": "2020-11-23T16:08:11.299363Z"
    }
   },
   "outputs": [],
   "source": [
    "labelencoder=LabelEncoder()\n",
    "train_data['user_verified']=labelencoder.fit_transform(train_data['user_verified'])\n",
    "# with hashtag --> 1, without --> 0\n",
    "train_data['urls'] = train_data['urls'].fillna(0)\n",
    "train_data = train_data.assign(urls=(train_data['urls'] !=0 ).astype(int))\n",
    "# with user mentions --> 1, without--> 0\n",
    "train_data['user_mentions'] = train_data['user_mentions'].fillna(0)\n",
    "train_data = train_data.assign(user_mentions=(train_data['user_mentions']!= 0 ).astype(int))"
   ]
  },
  {
   "cell_type": "markdown",
   "metadata": {},
   "source": [
    "## Correlation between features"
   ]
  },
  {
   "cell_type": "code",
   "execution_count": 31,
   "metadata": {
    "ExecuteTime": {
     "end_time": "2020-11-23T16:08:12.605688Z",
     "start_time": "2020-11-23T16:08:12.498196Z"
    }
   },
   "outputs": [],
   "source": [
    "train_data = train_data.drop(columns=['hashtags','text','timestamp'])"
   ]
  },
  {
   "cell_type": "code",
   "execution_count": 32,
   "metadata": {
    "ExecuteTime": {
     "end_time": "2020-11-23T16:08:13.364361Z",
     "start_time": "2020-11-23T16:08:13.200459Z"
    }
   },
   "outputs": [
    {
     "data": {
      "text/html": [
       "<div>\n",
       "<style scoped>\n",
       "    .dataframe tbody tr th:only-of-type {\n",
       "        vertical-align: middle;\n",
       "    }\n",
       "\n",
       "    .dataframe tbody tr th {\n",
       "        vertical-align: top;\n",
       "    }\n",
       "\n",
       "    .dataframe thead th {\n",
       "        text-align: right;\n",
       "    }\n",
       "</style>\n",
       "<table border=\"1\" class=\"dataframe\">\n",
       "  <thead>\n",
       "    <tr style=\"text-align: right;\">\n",
       "      <th></th>\n",
       "      <th>id</th>\n",
       "      <th>retweet_count</th>\n",
       "      <th>user_verified</th>\n",
       "      <th>user_statuses_count</th>\n",
       "      <th>user_followers_count</th>\n",
       "      <th>user_friends_count</th>\n",
       "      <th>user_mentions</th>\n",
       "      <th>urls</th>\n",
       "      <th>retweet_bin</th>\n",
       "      <th>totalhashtag</th>\n",
       "    </tr>\n",
       "  </thead>\n",
       "  <tbody>\n",
       "    <tr>\n",
       "      <th>id</th>\n",
       "      <td>1.000000</td>\n",
       "      <td>0.001411</td>\n",
       "      <td>0.000932</td>\n",
       "      <td>0.000611</td>\n",
       "      <td>0.001433</td>\n",
       "      <td>0.002043</td>\n",
       "      <td>0.000685</td>\n",
       "      <td>0.000667</td>\n",
       "      <td>0.000444</td>\n",
       "      <td>0.001048</td>\n",
       "    </tr>\n",
       "    <tr>\n",
       "      <th>retweet_count</th>\n",
       "      <td>0.001411</td>\n",
       "      <td>1.000000</td>\n",
       "      <td>0.057923</td>\n",
       "      <td>0.001605</td>\n",
       "      <td>0.132853</td>\n",
       "      <td>0.025327</td>\n",
       "      <td>-0.001186</td>\n",
       "      <td>0.030485</td>\n",
       "      <td>0.065551</td>\n",
       "      <td>-0.001655</td>\n",
       "    </tr>\n",
       "    <tr>\n",
       "      <th>user_verified</th>\n",
       "      <td>0.000932</td>\n",
       "      <td>0.057923</td>\n",
       "      <td>1.000000</td>\n",
       "      <td>0.198346</td>\n",
       "      <td>0.235241</td>\n",
       "      <td>0.049641</td>\n",
       "      <td>0.119270</td>\n",
       "      <td>0.421360</td>\n",
       "      <td>0.433347</td>\n",
       "      <td>0.093272</td>\n",
       "    </tr>\n",
       "    <tr>\n",
       "      <th>user_statuses_count</th>\n",
       "      <td>0.000611</td>\n",
       "      <td>0.001605</td>\n",
       "      <td>0.198346</td>\n",
       "      <td>1.000000</td>\n",
       "      <td>0.172699</td>\n",
       "      <td>0.150665</td>\n",
       "      <td>-0.006830</td>\n",
       "      <td>0.115375</td>\n",
       "      <td>0.116983</td>\n",
       "      <td>-0.001115</td>\n",
       "    </tr>\n",
       "    <tr>\n",
       "      <th>user_followers_count</th>\n",
       "      <td>0.001433</td>\n",
       "      <td>0.132853</td>\n",
       "      <td>0.235241</td>\n",
       "      <td>0.172699</td>\n",
       "      <td>1.000000</td>\n",
       "      <td>0.060272</td>\n",
       "      <td>0.015888</td>\n",
       "      <td>0.114159</td>\n",
       "      <td>0.122539</td>\n",
       "      <td>0.001634</td>\n",
       "    </tr>\n",
       "  </tbody>\n",
       "</table>\n",
       "</div>"
      ],
      "text/plain": [
       "                            id  retweet_count  user_verified  \\\n",
       "id                    1.000000       0.001411       0.000932   \n",
       "retweet_count         0.001411       1.000000       0.057923   \n",
       "user_verified         0.000932       0.057923       1.000000   \n",
       "user_statuses_count   0.000611       0.001605       0.198346   \n",
       "user_followers_count  0.001433       0.132853       0.235241   \n",
       "\n",
       "                      user_statuses_count  user_followers_count  \\\n",
       "id                               0.000611              0.001433   \n",
       "retweet_count                    0.001605              0.132853   \n",
       "user_verified                    0.198346              0.235241   \n",
       "user_statuses_count              1.000000              0.172699   \n",
       "user_followers_count             0.172699              1.000000   \n",
       "\n",
       "                      user_friends_count  user_mentions      urls  \\\n",
       "id                              0.002043       0.000685  0.000667   \n",
       "retweet_count                   0.025327      -0.001186  0.030485   \n",
       "user_verified                   0.049641       0.119270  0.421360   \n",
       "user_statuses_count             0.150665      -0.006830  0.115375   \n",
       "user_followers_count            0.060272       0.015888  0.114159   \n",
       "\n",
       "                      retweet_bin  totalhashtag  \n",
       "id                       0.000444      0.001048  \n",
       "retweet_count            0.065551     -0.001655  \n",
       "user_verified            0.433347      0.093272  \n",
       "user_statuses_count      0.116983     -0.001115  \n",
       "user_followers_count     0.122539      0.001634  "
      ]
     },
     "execution_count": 32,
     "metadata": {},
     "output_type": "execute_result"
    }
   ],
   "source": [
    "datacorr = train_data.corr()\n",
    "datacorr.head()"
   ]
  },
  {
   "cell_type": "code",
   "execution_count": 33,
   "metadata": {
    "ExecuteTime": {
     "end_time": "2020-11-23T16:08:17.538355Z",
     "start_time": "2020-11-23T16:08:16.921608Z"
    },
    "scrolled": true
   },
   "outputs": [
    {
     "data": {
      "text/plain": [
       "<matplotlib.axes._subplots.AxesSubplot at 0x7f916d040fa0>"
      ]
     },
     "execution_count": 33,
     "metadata": {},
     "output_type": "execute_result"
    },
    {
     "data": {
      "image/png": "[encoded data removed]",
      "text/plain": [
       "<Figure size 936x936 with 2 Axes>"
      ]
     },
     "metadata": {
      "needs_background": "light"
     },
     "output_type": "display_data"
    }
   ],
   "source": [
    "plt.figure(figsize = (13,13))\n",
    "sns.heatmap(datacorr, cmap = 'YlGnBu',square=True,annot=True)"
   ]
  },
  {
   "cell_type": "markdown",
   "metadata": {},
   "source": [
    "* the features that are highly correlated are the **number of followers**, **number of followees** and **number of statuses** and **user_verified** and also the **month** and if he puts **url**, which have a positive impact in the number of retweets"
   ]
  },
  {
   "cell_type": "code",
   "execution_count": 14,
   "metadata": {
    "ExecuteTime": {
     "end_time": "2020-11-23T15:45:09.106315Z",
     "start_time": "2020-11-23T15:45:08.875956Z"
    }
   },
   "outputs": [
    {
     "data": {
      "text/plain": [
       "id                      665777\n",
       "user_verified                2\n",
       "user_statuses_count     141785\n",
       "user_followers_count     98958\n",
       "user_friends_count       25170\n",
       "user_mentions                2\n",
       "urls                         2\n",
       "retweet_bin                  2\n",
       "totalhashtag                17\n",
       "dtype: int64"
      ]
     },
     "execution_count": 14,
     "metadata": {},
     "output_type": "execute_result"
    }
   ],
   "source": [
    "train_data.nunique()"
   ]
  },
  {
   "cell_type": "code",
   "execution_count": 15,
   "metadata": {
    "ExecuteTime": {
     "end_time": "2020-11-23T15:45:09.147731Z",
     "start_time": "2020-11-23T15:45:09.108405Z"
    }
   },
   "outputs": [
    {
     "data": {
      "text/plain": [
       "id                      0\n",
       "user_verified           0\n",
       "user_statuses_count     0\n",
       "user_followers_count    0\n",
       "user_friends_count      0\n",
       "user_mentions           0\n",
       "urls                    0\n",
       "retweet_bin             0\n",
       "totalhashtag            0\n",
       "dtype: int64"
      ]
     },
     "execution_count": 15,
     "metadata": {},
     "output_type": "execute_result"
    }
   ],
   "source": [
    "train_data.isnull().sum()"
   ]
  },
  {
   "cell_type": "markdown",
   "metadata": {},
   "source": [
    "## Logistic Regression\n"
   ]
  },
  {
   "cell_type": "code",
   "execution_count": 16,
   "metadata": {
    "ExecuteTime": {
     "end_time": "2020-11-23T15:45:11.159530Z",
     "start_time": "2020-11-23T15:45:09.149881Z"
    }
   },
   "outputs": [],
   "source": [
    "y = train_data.retweet_bin \n",
    "X = train_data.drop(\"retweet_bin\",axis=1)\n",
    "X_train, X_test, y_train, y_test = scsplit(X, y, stratify=y, train_size=0.7,test_size=0.3)\n",
    "train_data_model = LogisticRegression()\n",
    "train_data_model_fit = train_data_model.fit(X_train,y_train)\n",
    "y_pred=train_data_model_fit.predict(X_test)"
   ]
  },
  {
   "cell_type": "code",
   "execution_count": 17,
   "metadata": {
    "ExecuteTime": {
     "end_time": "2020-11-23T15:45:11.399589Z",
     "start_time": "2020-11-23T15:45:11.163236Z"
    }
   },
   "outputs": [
    {
     "data": {
      "text/html": [
       "<div>\n",
       "<style scoped>\n",
       "    .dataframe tbody tr th:only-of-type {\n",
       "        vertical-align: middle;\n",
       "    }\n",
       "\n",
       "    .dataframe tbody tr th {\n",
       "        vertical-align: top;\n",
       "    }\n",
       "\n",
       "    .dataframe thead th {\n",
       "        text-align: right;\n",
       "    }\n",
       "</style>\n",
       "<table border=\"1\" class=\"dataframe\">\n",
       "  <thead>\n",
       "    <tr style=\"text-align: right;\">\n",
       "      <th></th>\n",
       "      <th>Model</th>\n",
       "      <th>Accuracy</th>\n",
       "      <th>Precision</th>\n",
       "      <th>Recall</th>\n",
       "      <th>F1 Score</th>\n",
       "    </tr>\n",
       "  </thead>\n",
       "  <tbody>\n",
       "    <tr>\n",
       "      <th>0</th>\n",
       "      <td>Logistic Regression</td>\n",
       "      <td>0.732704</td>\n",
       "      <td>0.842734</td>\n",
       "      <td>0.328975</td>\n",
       "      <td>0.473221</td>\n",
       "    </tr>\n",
       "  </tbody>\n",
       "</table>\n",
       "</div>"
      ],
      "text/plain": [
       "                 Model  Accuracy  Precision    Recall  F1 Score\n",
       "0  Logistic Regression  0.732704   0.842734  0.328975  0.473221"
      ]
     },
     "execution_count": 17,
     "metadata": {},
     "output_type": "execute_result"
    }
   ],
   "source": [
    "acc = accuracy_score(y_test,y_pred)\n",
    "prec = precision_score(y_test, y_pred)\n",
    "rec = recall_score(y_test, y_pred)\n",
    "f1 = f1_score(y_test,y_pred)\n",
    "results = pd.DataFrame([['Logistic Regression', acc,prec,rec,f1]],columns=['Model', 'Accuracy', 'Precision', 'Recall','F1 Score'])\n",
    "results"
   ]
  },
  {
   "cell_type": "code",
   "execution_count": 18,
   "metadata": {
    "ExecuteTime": {
     "end_time": "2020-11-23T15:45:11.421138Z",
     "start_time": "2020-11-23T15:45:11.403183Z"
    }
   },
   "outputs": [
    {
     "name": "stdout",
     "output_type": "stream",
     "text": [
      "Making predictions for the following 5 tweets:\n",
      "   id  user_verified  user_statuses_count  user_followers_count  \\\n",
      "0   0              0                68460                  1101   \n",
      "1   1              0                  309                    51   \n",
      "2   2              0                 3241                  1675   \n",
      "3   3              0                32327                   667   \n",
      "4   4              0                  581                    42   \n",
      "\n",
      "   user_friends_count  user_mentions  urls  totalhashtag  \n",
      "0                1226              0     0           0.0  \n",
      "1                 202              0     0           0.0  \n",
      "2                2325              0     0           0.0  \n",
      "3                 304              0     0           0.0  \n",
      "4                 127              0     0           0.0  \n",
      "The predictions are\n",
      "[0 1 1 0 1]\n"
     ]
    }
   ],
   "source": [
    "print(\"Making predictions for the following 5 tweets:\")\n",
    "print(X.head())\n",
    "print(\"The predictions are\")\n",
    "print(train_data_model_fit.predict(X.head()))"
   ]
  },
  {
   "cell_type": "markdown",
   "metadata": {},
   "source": [
    "## Feature Selection"
   ]
  },
  {
   "cell_type": "code",
   "execution_count": 19,
   "metadata": {
    "ExecuteTime": {
     "end_time": "2020-11-23T15:45:11.440167Z",
     "start_time": "2020-11-23T15:45:11.425503Z"
    }
   },
   "outputs": [
    {
     "data": {
      "text/html": [
       "<div>\n",
       "<style scoped>\n",
       "    .dataframe tbody tr th:only-of-type {\n",
       "        vertical-align: middle;\n",
       "    }\n",
       "\n",
       "    .dataframe tbody tr th {\n",
       "        vertical-align: top;\n",
       "    }\n",
       "\n",
       "    .dataframe thead th {\n",
       "        text-align: right;\n",
       "    }\n",
       "</style>\n",
       "<table border=\"1\" class=\"dataframe\">\n",
       "  <thead>\n",
       "    <tr style=\"text-align: right;\">\n",
       "      <th></th>\n",
       "      <th>features</th>\n",
       "      <th>coef</th>\n",
       "    </tr>\n",
       "  </thead>\n",
       "  <tbody>\n",
       "    <tr>\n",
       "      <th>0</th>\n",
       "      <td>id</td>\n",
       "      <td>-1.903583e-06</td>\n",
       "    </tr>\n",
       "    <tr>\n",
       "      <th>1</th>\n",
       "      <td>user_verified</td>\n",
       "      <td>4.572585e-09</td>\n",
       "    </tr>\n",
       "    <tr>\n",
       "      <th>2</th>\n",
       "      <td>user_statuses_count</td>\n",
       "      <td>-2.306768e-06</td>\n",
       "    </tr>\n",
       "    <tr>\n",
       "      <th>3</th>\n",
       "      <td>user_followers_count</td>\n",
       "      <td>1.232688e-05</td>\n",
       "    </tr>\n",
       "    <tr>\n",
       "      <th>4</th>\n",
       "      <td>user_friends_count</td>\n",
       "      <td>3.142983e-05</td>\n",
       "    </tr>\n",
       "    <tr>\n",
       "      <th>5</th>\n",
       "      <td>user_mentions</td>\n",
       "      <td>7.695842e-09</td>\n",
       "    </tr>\n",
       "    <tr>\n",
       "      <th>6</th>\n",
       "      <td>urls</td>\n",
       "      <td>2.759791e-08</td>\n",
       "    </tr>\n",
       "    <tr>\n",
       "      <th>7</th>\n",
       "      <td>totalhashtag</td>\n",
       "      <td>1.811490e-08</td>\n",
       "    </tr>\n",
       "  </tbody>\n",
       "</table>\n",
       "</div>"
      ],
      "text/plain": [
       "               features          coef\n",
       "0                    id -1.903583e-06\n",
       "1         user_verified  4.572585e-09\n",
       "2   user_statuses_count -2.306768e-06\n",
       "3  user_followers_count  1.232688e-05\n",
       "4    user_friends_count  3.142983e-05\n",
       "5         user_mentions  7.695842e-09\n",
       "6                  urls  2.759791e-08\n",
       "7          totalhashtag  1.811490e-08"
      ]
     },
     "execution_count": 19,
     "metadata": {},
     "output_type": "execute_result"
    }
   ],
   "source": [
    "#Analyzing the coefficients\n",
    "pd.concat([pd.DataFrame(X_train.columns, columns = [\"features\"]),\n",
    "           pd.DataFrame(np.transpose(train_data_model_fit.coef_), columns = [\"coef\"])\n",
    "           ],axis = 1)"
   ]
  },
  {
   "cell_type": "code",
   "execution_count": 20,
   "metadata": {
    "ExecuteTime": {
     "end_time": "2020-11-23T15:45:16.533717Z",
     "start_time": "2020-11-23T15:45:11.442409Z"
    }
   },
   "outputs": [
    {
     "name": "stdout",
     "output_type": "stream",
     "text": [
      "[ True False  True  True  True False  True False]\n",
      "[1 4 1 1 1 3 1 2]\n"
     ]
    },
    {
     "data": {
      "text/plain": [
       "Index(['id', 'user_statuses_count', 'user_followers_count',\n",
       "       'user_friends_count', 'urls'],\n",
       "      dtype='object')"
      ]
     },
     "execution_count": 20,
     "metadata": {},
     "output_type": "execute_result"
    }
   ],
   "source": [
    "rfe = RFE(train_data_model, 5)\n",
    "rfe = rfe.fit(X_train, y_train)\n",
    "print(rfe.support_)\n",
    "print(rfe.ranking_)\n",
    "X_train.columns[rfe.support_]"
   ]
  }
 ],
 "metadata": {
  "hide_input": false,
  "kernelspec": {
   "display_name": "Python 3",
   "language": "python",
   "name": "python3"
  },
  "language_info": {
   "codemirror_mode": {
    "name": "ipython",
    "version": 3
   },
   "file_extension": ".py",
   "mimetype": "text/x-python",
   "name": "python",
   "nbconvert_exporter": "python",
   "pygments_lexer": "ipython3",
   "version": "3.8.3"
  },
  "latex_envs": {
   "LaTeX_envs_menu_present": true,
   "autoclose": false,
   "autocomplete": true,
   "bibliofile": "biblio.bib",
   "cite_by": "apalike",
   "current_citInitial": 1,
   "eqLabelWithNumbers": true,
   "eqNumInitial": 1,
   "hotkeys": {
    "equation": "Ctrl-E",
    "itemize": "Ctrl-I"
   },
   "labels_anchors": false,
   "latex_user_defs": false,
   "report_style_numbering": false,
   "user_envs_cfg": false
  },
  "nbTranslate": {
   "displayLangs": [
    "*"
   ],
   "hotkey": "alt-t",
   "langInMainMenu": true,
   "sourceLang": "en",
   "targetLang": "fr",
   "useGoogleTranslate": true
  },
  "toc": {
   "base_numbering": 1,
   "nav_menu": {},
   "number_sections": true,
   "sideBar": true,
   "skip_h1_title": false,
   "title_cell": "Table of Contents",
   "title_sidebar": "Contents",
   "toc_cell": false,
   "toc_position": {},
   "toc_section_display": true,
   "toc_window_display": false
  },
  "varInspector": {
   "cols": {
    "lenName": 16,
    "lenType": 16,
    "lenVar": 40
   },
   "kernels_config": {
    "python": {
     "delete_cmd_postfix": "",
     "delete_cmd_prefix": "del ",
     "library": "var_list.py",
     "varRefreshCmd": "print(var_dic_list())"
    },
    "r": {
     "delete_cmd_postfix": ") ",
     "delete_cmd_prefix": "rm(",
     "library": "var_list.r",
     "varRefreshCmd": "cat(var_dic_list()) "
    }
   },
   "types_to_exclude": [
    "module",
    "function",
    "builtin_function_or_method",
    "instance",
    "_Feature"
   ],
   "window_display": false
  }
 },
 "nbformat": 4,
 "nbformat_minor": 4
}
