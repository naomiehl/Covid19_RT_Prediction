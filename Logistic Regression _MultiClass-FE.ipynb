{
 "cells": [
  {
   "cell_type": "markdown",
   "metadata": {},
   "source": [
    "# LogisticRegression"
   ]
  },
  {
   "cell_type": "markdown",
   "metadata": {},
   "source": [
    "## Import and Load Data Set"
   ]
  },
  {
   "cell_type": "code",
   "execution_count": 25,
   "metadata": {
    "ExecuteTime": {
     "end_time": "2020-11-30T21:47:28.299429Z",
     "start_time": "2020-11-30T21:47:28.295587Z"
    },
    "run_control": {
     "marked": false
    }
   },
   "outputs": [],
   "source": [
    "import pandas as pd\n",
    "import numpy as np\n",
    "import csv\n",
    "import seaborn as sns\n",
    "from sklearn import metrics\n",
    "from sklearn.feature_selection import RFE\n",
    "from verstack.stratified_continuous_split import scsplit \n",
    "from datetime import datetime\n",
    "from pandas import DataFrame\n",
    "from sklearn.metrics import mean_absolute_error\n",
    "from sklearn.metrics import precision_recall_fscore_support as score, precision_score, recall_score, f1_score\n",
    "from sklearn.preprocessing import LabelEncoder, StandardScaler\n",
    "import sklearn.decomposition as skdc\n",
    "from sklearn.metrics import classification_report, confusion_matrix, accuracy_score\n",
    "from sklearn.linear_model import LogisticRegression\n",
    "import sklearn.linear_model as sklm \n",
    "import sklearn.pipeline as skpl\n",
    "import re\n",
    "import matplotlib.pyplot as plt"
   ]
  },
  {
   "cell_type": "code",
   "execution_count": 2,
   "metadata": {
    "ExecuteTime": {
     "end_time": "2020-11-30T21:43:00.978895Z",
     "start_time": "2020-11-30T21:42:59.708521Z"
    },
    "scrolled": true
   },
   "outputs": [
    {
     "data": {
      "text/html": [
       "<div>\n",
       "<style scoped>\n",
       "    .dataframe tbody tr th:only-of-type {\n",
       "        vertical-align: middle;\n",
       "    }\n",
       "\n",
       "    .dataframe tbody tr th {\n",
       "        vertical-align: top;\n",
       "    }\n",
       "\n",
       "    .dataframe thead th {\n",
       "        text-align: right;\n",
       "    }\n",
       "</style>\n",
       "<table border=\"1\" class=\"dataframe\">\n",
       "  <thead>\n",
       "    <tr style=\"text-align: right;\">\n",
       "      <th></th>\n",
       "      <th>id</th>\n",
       "      <th>timestamp</th>\n",
       "      <th>retweet_count</th>\n",
       "      <th>user_verified</th>\n",
       "      <th>user_statuses_count</th>\n",
       "      <th>user_followers_count</th>\n",
       "      <th>user_friends_count</th>\n",
       "      <th>user_mentions</th>\n",
       "      <th>urls</th>\n",
       "      <th>hashtags</th>\n",
       "      <th>text</th>\n",
       "    </tr>\n",
       "  </thead>\n",
       "  <tbody>\n",
       "    <tr>\n",
       "      <th>0</th>\n",
       "      <td>0</td>\n",
       "      <td>1588696955143</td>\n",
       "      <td>0</td>\n",
       "      <td>False</td>\n",
       "      <td>68460</td>\n",
       "      <td>1101</td>\n",
       "      <td>1226</td>\n",
       "      <td>NaN</td>\n",
       "      <td>NaN</td>\n",
       "      <td>NaN</td>\n",
       "      <td>Smh I give up</td>\n",
       "    </tr>\n",
       "    <tr>\n",
       "      <th>1</th>\n",
       "      <td>1</td>\n",
       "      <td>1588464948124</td>\n",
       "      <td>0</td>\n",
       "      <td>False</td>\n",
       "      <td>309</td>\n",
       "      <td>51</td>\n",
       "      <td>202</td>\n",
       "      <td>NaN</td>\n",
       "      <td>NaN</td>\n",
       "      <td>NaN</td>\n",
       "      <td>Most of us are Human Beings, but I think you m...</td>\n",
       "    </tr>\n",
       "    <tr>\n",
       "      <th>2</th>\n",
       "      <td>2</td>\n",
       "      <td>1588634673360</td>\n",
       "      <td>0</td>\n",
       "      <td>False</td>\n",
       "      <td>3241</td>\n",
       "      <td>1675</td>\n",
       "      <td>2325</td>\n",
       "      <td>NaN</td>\n",
       "      <td>NaN</td>\n",
       "      <td>NaN</td>\n",
       "      <td>Old dirty tricks Trump, at it again...like we ...</td>\n",
       "    </tr>\n",
       "  </tbody>\n",
       "</table>\n",
       "</div>"
      ],
      "text/plain": [
       "   id      timestamp  retweet_count  user_verified  user_statuses_count  \\\n",
       "0   0  1588696955143              0          False                68460   \n",
       "1   1  1588464948124              0          False                  309   \n",
       "2   2  1588634673360              0          False                 3241   \n",
       "\n",
       "   user_followers_count  user_friends_count user_mentions urls hashtags  \\\n",
       "0                  1101                1226           NaN  NaN      NaN   \n",
       "1                    51                 202           NaN  NaN      NaN   \n",
       "2                  1675                2325           NaN  NaN      NaN   \n",
       "\n",
       "                                                text  \n",
       "0                                      Smh I give up  \n",
       "1  Most of us are Human Beings, but I think you m...  \n",
       "2  Old dirty tricks Trump, at it again...like we ...  "
      ]
     },
     "execution_count": 2,
     "metadata": {},
     "output_type": "execute_result"
    }
   ],
   "source": [
    "# Load the training data\n",
    "train_data = pd.read_csv(\"data/train.csv\")\n",
    "train_data.head(3)"
   ]
  },
  {
   "cell_type": "code",
   "execution_count": 3,
   "metadata": {
    "ExecuteTime": {
     "end_time": "2020-11-30T21:43:00.984120Z",
     "start_time": "2020-11-30T21:43:00.981083Z"
    }
   },
   "outputs": [
    {
     "data": {
      "text/plain": [
       "(665777, 11)"
      ]
     },
     "execution_count": 3,
     "metadata": {},
     "output_type": "execute_result"
    }
   ],
   "source": [
    "train_data.shape"
   ]
  },
  {
   "cell_type": "markdown",
   "metadata": {},
   "source": [
    "## Preprocessing"
   ]
  },
  {
   "cell_type": "code",
   "execution_count": 4,
   "metadata": {
    "ExecuteTime": {
     "end_time": "2020-11-30T21:43:00.992009Z",
     "start_time": "2020-11-30T21:43:00.986072Z"
    }
   },
   "outputs": [],
   "source": [
    "class FeatureExtraction(object):\n",
    "\n",
    "    def __init__(self, train_data):\n",
    "        self.train_data = train_data\n",
    "    \n",
    "    def transform(self):\n",
    "        train_data = self.train_data\n",
    "        \n",
    "        #timestamp\n",
    "        train_data[\"user_hour\"] = train_data.timestamp.apply(lambda t: (datetime.fromtimestamp(t//1000-5*3600)).hour)\n",
    "        train_data[\"user_day\"] = train_data.timestamp.apply(lambda t: (datetime.fromtimestamp(t//1000-5*3600)).weekday())\n",
    "        train_data[\"user_month\"] = train_data.timestamp.apply(lambda t: (datetime.fromtimestamp(t//1000-5*3600)).month)\n",
    "        \n",
    "        #number of hashtags\n",
    "        train_data['totalhashtag'] = train_data['hashtags'].str.split().str.len()\n",
    "        train_data['totalhashtag'] = train_data['totalhashtag'].fillna(0)\n",
    "        train_data = train_data.drop(columns=['hashtags'])\n",
    "        \n",
    "        #user verified\n",
    "        labelencoder=LabelEncoder()\n",
    "        train_data['user_verified']=labelencoder.fit_transform(train_data['user_verified'])\n",
    "        \n",
    "        # urls\n",
    "        train_data['urls'] = train_data['urls'].fillna(0)\n",
    "        train_data = train_data.assign(urls=(train_data['urls'] !=0 ).astype(int))\n",
    "        \n",
    "        # mentions\n",
    "        train_data['user_mentions'] = train_data['user_mentions'].fillna(0)\n",
    "        train_data = train_data.assign(user_mentions=(train_data['user_mentions']!= 0 ).astype(int))\n",
    "        \n",
    "        self.transformed_data = train_data\n",
    "        pass"
   ]
  },
  {
   "cell_type": "markdown",
   "metadata": {},
   "source": [
    "## Analysis"
   ]
  },
  {
   "cell_type": "code",
   "execution_count": 27,
   "metadata": {
    "ExecuteTime": {
     "end_time": "2020-11-30T21:48:13.957466Z",
     "start_time": "2020-11-30T21:48:13.847370Z"
    }
   },
   "outputs": [
    {
     "data": {
      "text/html": [
       "<div>\n",
       "<style scoped>\n",
       "    .dataframe tbody tr th:only-of-type {\n",
       "        vertical-align: middle;\n",
       "    }\n",
       "\n",
       "    .dataframe tbody tr th {\n",
       "        vertical-align: top;\n",
       "    }\n",
       "\n",
       "    .dataframe thead th {\n",
       "        text-align: right;\n",
       "    }\n",
       "</style>\n",
       "<table border=\"1\" class=\"dataframe\">\n",
       "  <thead>\n",
       "    <tr style=\"text-align: right;\">\n",
       "      <th></th>\n",
       "      <th>id</th>\n",
       "      <th>timestamp</th>\n",
       "      <th>user_verified</th>\n",
       "      <th>user_statuses_count</th>\n",
       "      <th>user_followers_count</th>\n",
       "      <th>user_friends_count</th>\n",
       "      <th>user_hour</th>\n",
       "      <th>user_day</th>\n",
       "      <th>user_month</th>\n",
       "      <th>totalhashtag</th>\n",
       "    </tr>\n",
       "    <tr>\n",
       "      <th>retweet_count</th>\n",
       "      <th></th>\n",
       "      <th></th>\n",
       "      <th></th>\n",
       "      <th></th>\n",
       "      <th></th>\n",
       "      <th></th>\n",
       "      <th></th>\n",
       "      <th></th>\n",
       "      <th></th>\n",
       "      <th></th>\n",
       "    </tr>\n",
       "  </thead>\n",
       "  <tbody>\n",
       "    <tr>\n",
       "      <th>0</th>\n",
       "      <td>332823.257449</td>\n",
       "      <td>1.588504e+12</td>\n",
       "      <td>0.021637</td>\n",
       "      <td>32939.140042</td>\n",
       "      <td>6.118224e+03</td>\n",
       "      <td>1561.499812</td>\n",
       "      <td>12.604724</td>\n",
       "      <td>3.145413</td>\n",
       "      <td>4.948645</td>\n",
       "      <td>0.000000</td>\n",
       "    </tr>\n",
       "    <tr>\n",
       "      <th>1</th>\n",
       "      <td>333495.924039</td>\n",
       "      <td>1.588487e+12</td>\n",
       "      <td>0.214983</td>\n",
       "      <td>49078.294754</td>\n",
       "      <td>1.163302e+05</td>\n",
       "      <td>3395.315379</td>\n",
       "      <td>12.666795</td>\n",
       "      <td>2.697957</td>\n",
       "      <td>4.858698</td>\n",
       "      <td>0.585060</td>\n",
       "    </tr>\n",
       "    <tr>\n",
       "      <th>2</th>\n",
       "      <td>332457.805067</td>\n",
       "      <td>1.588483e+12</td>\n",
       "      <td>0.438973</td>\n",
       "      <td>69329.714360</td>\n",
       "      <td>7.757051e+05</td>\n",
       "      <td>5991.614108</td>\n",
       "      <td>12.021902</td>\n",
       "      <td>2.981886</td>\n",
       "      <td>4.872727</td>\n",
       "      <td>0.512795</td>\n",
       "    </tr>\n",
       "    <tr>\n",
       "      <th>3</th>\n",
       "      <td>332065.873257</td>\n",
       "      <td>1.588522e+12</td>\n",
       "      <td>0.557570</td>\n",
       "      <td>65906.830165</td>\n",
       "      <td>2.190506e+06</td>\n",
       "      <td>7951.069806</td>\n",
       "      <td>11.989739</td>\n",
       "      <td>2.761358</td>\n",
       "      <td>4.925539</td>\n",
       "      <td>0.344082</td>\n",
       "    </tr>\n",
       "  </tbody>\n",
       "</table>\n",
       "</div>"
      ],
      "text/plain": [
       "                          id     timestamp  user_verified  \\\n",
       "retweet_count                                               \n",
       "0              332823.257449  1.588504e+12       0.021637   \n",
       "1              333495.924039  1.588487e+12       0.214983   \n",
       "2              332457.805067  1.588483e+12       0.438973   \n",
       "3              332065.873257  1.588522e+12       0.557570   \n",
       "\n",
       "               user_statuses_count  user_followers_count  user_friends_count  \\\n",
       "retweet_count                                                                  \n",
       "0                     32939.140042          6.118224e+03         1561.499812   \n",
       "1                     49078.294754          1.163302e+05         3395.315379   \n",
       "2                     69329.714360          7.757051e+05         5991.614108   \n",
       "3                     65906.830165          2.190506e+06         7951.069806   \n",
       "\n",
       "               user_hour  user_day  user_month  totalhashtag  \n",
       "retweet_count                                                 \n",
       "0              12.604724  3.145413    4.948645      0.000000  \n",
       "1              12.666795  2.697957    4.858698      0.585060  \n",
       "2              12.021902  2.981886    4.872727      0.512795  \n",
       "3              11.989739  2.761358    4.925539      0.344082  "
      ]
     },
     "execution_count": 27,
     "metadata": {},
     "output_type": "execute_result"
    }
   ],
   "source": [
    "train_data.groupby('retweet_count').mean()"
   ]
  },
  {
   "cell_type": "markdown",
   "metadata": {},
   "source": [
    "First observation :<br>\n",
    "* La moyenne des followers augmente quand notre tweet a ete RT\n",
    "* La moyenne des amis augmente quand notre tweet a ete RT\n",
    "* L'utilisateur a plus tendance a etre verifie lorsque son tweet a ete RT"
   ]
  },
  {
   "cell_type": "code",
   "execution_count": 28,
   "metadata": {
    "ExecuteTime": {
     "end_time": "2020-11-30T21:48:16.484837Z",
     "start_time": "2020-11-30T21:48:16.471445Z"
    }
   },
   "outputs": [
    {
     "ename": "KeyError",
     "evalue": "\"['text'] not found in axis\"",
     "output_type": "error",
     "traceback": [
      "\u001b[0;31m---------------------------------------------------------------------------\u001b[0m",
      "\u001b[0;31mKeyError\u001b[0m                                  Traceback (most recent call last)",
      "\u001b[0;32m<ipython-input-28-c6b8414a5661>\u001b[0m in \u001b[0;36m<module>\u001b[0;34m\u001b[0m\n\u001b[0;32m----> 1\u001b[0;31m \u001b[0mtrain_data\u001b[0m \u001b[0;34m=\u001b[0m \u001b[0mtrain_data\u001b[0m\u001b[0;34m.\u001b[0m\u001b[0mdrop\u001b[0m\u001b[0;34m(\u001b[0m\u001b[0mcolumns\u001b[0m\u001b[0;34m=\u001b[0m\u001b[0;34m[\u001b[0m\u001b[0;34m'text'\u001b[0m\u001b[0;34m]\u001b[0m\u001b[0;34m)\u001b[0m\u001b[0;34m\u001b[0m\u001b[0;34m\u001b[0m\u001b[0m\n\u001b[0m",
      "\u001b[0;32m~/opt/anaconda3/lib/python3.8/site-packages/pandas/core/frame.py\u001b[0m in \u001b[0;36mdrop\u001b[0;34m(self, labels, axis, index, columns, level, inplace, errors)\u001b[0m\n\u001b[1;32m   3988\u001b[0m                 \u001b[0mweight\u001b[0m  \u001b[0;36m1.0\u001b[0m     \u001b[0;36m0.8\u001b[0m\u001b[0;34m\u001b[0m\u001b[0;34m\u001b[0m\u001b[0m\n\u001b[1;32m   3989\u001b[0m         \"\"\"\n\u001b[0;32m-> 3990\u001b[0;31m         return super().drop(\n\u001b[0m\u001b[1;32m   3991\u001b[0m             \u001b[0mlabels\u001b[0m\u001b[0;34m=\u001b[0m\u001b[0mlabels\u001b[0m\u001b[0;34m,\u001b[0m\u001b[0;34m\u001b[0m\u001b[0;34m\u001b[0m\u001b[0m\n\u001b[1;32m   3992\u001b[0m             \u001b[0maxis\u001b[0m\u001b[0;34m=\u001b[0m\u001b[0maxis\u001b[0m\u001b[0;34m,\u001b[0m\u001b[0;34m\u001b[0m\u001b[0;34m\u001b[0m\u001b[0m\n",
      "\u001b[0;32m~/opt/anaconda3/lib/python3.8/site-packages/pandas/core/generic.py\u001b[0m in \u001b[0;36mdrop\u001b[0;34m(self, labels, axis, index, columns, level, inplace, errors)\u001b[0m\n\u001b[1;32m   3934\u001b[0m         \u001b[0;32mfor\u001b[0m \u001b[0maxis\u001b[0m\u001b[0;34m,\u001b[0m \u001b[0mlabels\u001b[0m \u001b[0;32min\u001b[0m \u001b[0maxes\u001b[0m\u001b[0;34m.\u001b[0m\u001b[0mitems\u001b[0m\u001b[0;34m(\u001b[0m\u001b[0;34m)\u001b[0m\u001b[0;34m:\u001b[0m\u001b[0;34m\u001b[0m\u001b[0;34m\u001b[0m\u001b[0m\n\u001b[1;32m   3935\u001b[0m             \u001b[0;32mif\u001b[0m \u001b[0mlabels\u001b[0m \u001b[0;32mis\u001b[0m \u001b[0;32mnot\u001b[0m \u001b[0;32mNone\u001b[0m\u001b[0;34m:\u001b[0m\u001b[0;34m\u001b[0m\u001b[0;34m\u001b[0m\u001b[0m\n\u001b[0;32m-> 3936\u001b[0;31m                 \u001b[0mobj\u001b[0m \u001b[0;34m=\u001b[0m \u001b[0mobj\u001b[0m\u001b[0;34m.\u001b[0m\u001b[0m_drop_axis\u001b[0m\u001b[0;34m(\u001b[0m\u001b[0mlabels\u001b[0m\u001b[0;34m,\u001b[0m \u001b[0maxis\u001b[0m\u001b[0;34m,\u001b[0m \u001b[0mlevel\u001b[0m\u001b[0;34m=\u001b[0m\u001b[0mlevel\u001b[0m\u001b[0;34m,\u001b[0m \u001b[0merrors\u001b[0m\u001b[0;34m=\u001b[0m\u001b[0merrors\u001b[0m\u001b[0;34m)\u001b[0m\u001b[0;34m\u001b[0m\u001b[0;34m\u001b[0m\u001b[0m\n\u001b[0m\u001b[1;32m   3937\u001b[0m \u001b[0;34m\u001b[0m\u001b[0m\n\u001b[1;32m   3938\u001b[0m         \u001b[0;32mif\u001b[0m \u001b[0minplace\u001b[0m\u001b[0;34m:\u001b[0m\u001b[0;34m\u001b[0m\u001b[0;34m\u001b[0m\u001b[0m\n",
      "\u001b[0;32m~/opt/anaconda3/lib/python3.8/site-packages/pandas/core/generic.py\u001b[0m in \u001b[0;36m_drop_axis\u001b[0;34m(self, labels, axis, level, errors)\u001b[0m\n\u001b[1;32m   3968\u001b[0m                 \u001b[0mnew_axis\u001b[0m \u001b[0;34m=\u001b[0m \u001b[0maxis\u001b[0m\u001b[0;34m.\u001b[0m\u001b[0mdrop\u001b[0m\u001b[0;34m(\u001b[0m\u001b[0mlabels\u001b[0m\u001b[0;34m,\u001b[0m \u001b[0mlevel\u001b[0m\u001b[0;34m=\u001b[0m\u001b[0mlevel\u001b[0m\u001b[0;34m,\u001b[0m \u001b[0merrors\u001b[0m\u001b[0;34m=\u001b[0m\u001b[0merrors\u001b[0m\u001b[0;34m)\u001b[0m\u001b[0;34m\u001b[0m\u001b[0;34m\u001b[0m\u001b[0m\n\u001b[1;32m   3969\u001b[0m             \u001b[0;32melse\u001b[0m\u001b[0;34m:\u001b[0m\u001b[0;34m\u001b[0m\u001b[0;34m\u001b[0m\u001b[0m\n\u001b[0;32m-> 3970\u001b[0;31m                 \u001b[0mnew_axis\u001b[0m \u001b[0;34m=\u001b[0m \u001b[0maxis\u001b[0m\u001b[0;34m.\u001b[0m\u001b[0mdrop\u001b[0m\u001b[0;34m(\u001b[0m\u001b[0mlabels\u001b[0m\u001b[0;34m,\u001b[0m \u001b[0merrors\u001b[0m\u001b[0;34m=\u001b[0m\u001b[0merrors\u001b[0m\u001b[0;34m)\u001b[0m\u001b[0;34m\u001b[0m\u001b[0;34m\u001b[0m\u001b[0m\n\u001b[0m\u001b[1;32m   3971\u001b[0m             \u001b[0mresult\u001b[0m \u001b[0;34m=\u001b[0m \u001b[0mself\u001b[0m\u001b[0;34m.\u001b[0m\u001b[0mreindex\u001b[0m\u001b[0;34m(\u001b[0m\u001b[0;34m**\u001b[0m\u001b[0;34m{\u001b[0m\u001b[0maxis_name\u001b[0m\u001b[0;34m:\u001b[0m \u001b[0mnew_axis\u001b[0m\u001b[0;34m}\u001b[0m\u001b[0;34m)\u001b[0m\u001b[0;34m\u001b[0m\u001b[0;34m\u001b[0m\u001b[0m\n\u001b[1;32m   3972\u001b[0m \u001b[0;34m\u001b[0m\u001b[0m\n",
      "\u001b[0;32m~/opt/anaconda3/lib/python3.8/site-packages/pandas/core/indexes/base.py\u001b[0m in \u001b[0;36mdrop\u001b[0;34m(self, labels, errors)\u001b[0m\n\u001b[1;32m   5016\u001b[0m         \u001b[0;32mif\u001b[0m \u001b[0mmask\u001b[0m\u001b[0;34m.\u001b[0m\u001b[0many\u001b[0m\u001b[0;34m(\u001b[0m\u001b[0;34m)\u001b[0m\u001b[0;34m:\u001b[0m\u001b[0;34m\u001b[0m\u001b[0;34m\u001b[0m\u001b[0m\n\u001b[1;32m   5017\u001b[0m             \u001b[0;32mif\u001b[0m \u001b[0merrors\u001b[0m \u001b[0;34m!=\u001b[0m \u001b[0;34m\"ignore\"\u001b[0m\u001b[0;34m:\u001b[0m\u001b[0;34m\u001b[0m\u001b[0;34m\u001b[0m\u001b[0m\n\u001b[0;32m-> 5018\u001b[0;31m                 \u001b[0;32mraise\u001b[0m \u001b[0mKeyError\u001b[0m\u001b[0;34m(\u001b[0m\u001b[0;34mf\"{labels[mask]} not found in axis\"\u001b[0m\u001b[0;34m)\u001b[0m\u001b[0;34m\u001b[0m\u001b[0;34m\u001b[0m\u001b[0m\n\u001b[0m\u001b[1;32m   5019\u001b[0m             \u001b[0mindexer\u001b[0m \u001b[0;34m=\u001b[0m \u001b[0mindexer\u001b[0m\u001b[0;34m[\u001b[0m\u001b[0;34m~\u001b[0m\u001b[0mmask\u001b[0m\u001b[0;34m]\u001b[0m\u001b[0;34m\u001b[0m\u001b[0;34m\u001b[0m\u001b[0m\n\u001b[1;32m   5020\u001b[0m         \u001b[0;32mreturn\u001b[0m \u001b[0mself\u001b[0m\u001b[0;34m.\u001b[0m\u001b[0mdelete\u001b[0m\u001b[0;34m(\u001b[0m\u001b[0mindexer\u001b[0m\u001b[0;34m)\u001b[0m\u001b[0;34m\u001b[0m\u001b[0;34m\u001b[0m\u001b[0m\n",
      "\u001b[0;31mKeyError\u001b[0m: \"['text'] not found in axis\""
     ]
    }
   ],
   "source": [
    "train_data = train_data.drop(columns=['text'])"
   ]
  },
  {
   "cell_type": "code",
   "execution_count": 29,
   "metadata": {
    "ExecuteTime": {
     "end_time": "2020-11-30T21:48:17.773905Z",
     "start_time": "2020-11-30T21:48:17.184725Z"
    }
   },
   "outputs": [
    {
     "data": {
      "text/html": [
       "<div>\n",
       "<style scoped>\n",
       "    .dataframe tbody tr th:only-of-type {\n",
       "        vertical-align: middle;\n",
       "    }\n",
       "\n",
       "    .dataframe tbody tr th {\n",
       "        vertical-align: top;\n",
       "    }\n",
       "\n",
       "    .dataframe thead th {\n",
       "        text-align: right;\n",
       "    }\n",
       "</style>\n",
       "<table border=\"1\" class=\"dataframe\">\n",
       "  <thead>\n",
       "    <tr style=\"text-align: right;\">\n",
       "      <th></th>\n",
       "      <th>id</th>\n",
       "      <th>timestamp</th>\n",
       "      <th>retweet_count</th>\n",
       "      <th>user_verified</th>\n",
       "      <th>user_statuses_count</th>\n",
       "      <th>user_followers_count</th>\n",
       "      <th>user_friends_count</th>\n",
       "      <th>user_hour</th>\n",
       "      <th>user_day</th>\n",
       "      <th>user_month</th>\n",
       "      <th>totalhashtag</th>\n",
       "    </tr>\n",
       "  </thead>\n",
       "  <tbody>\n",
       "    <tr>\n",
       "      <th>id</th>\n",
       "      <td>1.000000</td>\n",
       "      <td>-0.000258</td>\n",
       "      <td>-0.000576</td>\n",
       "      <td>0.000932</td>\n",
       "      <td>0.000611</td>\n",
       "      <td>0.001433</td>\n",
       "      <td>0.002043</td>\n",
       "      <td>0.000113</td>\n",
       "      <td>-0.000872</td>\n",
       "      <td>-0.000906</td>\n",
       "      <td>0.001048</td>\n",
       "    </tr>\n",
       "    <tr>\n",
       "      <th>timestamp</th>\n",
       "      <td>-0.000258</td>\n",
       "      <td>1.000000</td>\n",
       "      <td>-0.012517</td>\n",
       "      <td>0.005081</td>\n",
       "      <td>0.004274</td>\n",
       "      <td>0.012339</td>\n",
       "      <td>0.002441</td>\n",
       "      <td>-0.010344</td>\n",
       "      <td>-0.583776</td>\n",
       "      <td>0.436845</td>\n",
       "      <td>-0.013471</td>\n",
       "    </tr>\n",
       "    <tr>\n",
       "      <th>retweet_count</th>\n",
       "      <td>-0.000576</td>\n",
       "      <td>-0.012517</td>\n",
       "      <td>1.000000</td>\n",
       "      <td>0.497393</td>\n",
       "      <td>0.125498</td>\n",
       "      <td>0.199544</td>\n",
       "      <td>0.109533</td>\n",
       "      <td>-0.027470</td>\n",
       "      <td>-0.060642</td>\n",
       "      <td>-0.088498</td>\n",
       "      <td>0.274102</td>\n",
       "    </tr>\n",
       "    <tr>\n",
       "      <th>user_verified</th>\n",
       "      <td>0.000932</td>\n",
       "      <td>0.005081</td>\n",
       "      <td>0.497393</td>\n",
       "      <td>1.000000</td>\n",
       "      <td>0.198346</td>\n",
       "      <td>0.235241</td>\n",
       "      <td>0.049641</td>\n",
       "      <td>-0.007619</td>\n",
       "      <td>-0.043877</td>\n",
       "      <td>-0.046219</td>\n",
       "      <td>0.093272</td>\n",
       "    </tr>\n",
       "    <tr>\n",
       "      <th>user_statuses_count</th>\n",
       "      <td>0.000611</td>\n",
       "      <td>0.004274</td>\n",
       "      <td>0.125498</td>\n",
       "      <td>0.198346</td>\n",
       "      <td>1.000000</td>\n",
       "      <td>0.172699</td>\n",
       "      <td>0.150665</td>\n",
       "      <td>0.014659</td>\n",
       "      <td>-0.016374</td>\n",
       "      <td>-0.024173</td>\n",
       "      <td>-0.001115</td>\n",
       "    </tr>\n",
       "  </tbody>\n",
       "</table>\n",
       "</div>"
      ],
      "text/plain": [
       "                           id  timestamp  retweet_count  user_verified  \\\n",
       "id                   1.000000  -0.000258      -0.000576       0.000932   \n",
       "timestamp           -0.000258   1.000000      -0.012517       0.005081   \n",
       "retweet_count       -0.000576  -0.012517       1.000000       0.497393   \n",
       "user_verified        0.000932   0.005081       0.497393       1.000000   \n",
       "user_statuses_count  0.000611   0.004274       0.125498       0.198346   \n",
       "\n",
       "                     user_statuses_count  user_followers_count  \\\n",
       "id                              0.000611              0.001433   \n",
       "timestamp                       0.004274              0.012339   \n",
       "retweet_count                   0.125498              0.199544   \n",
       "user_verified                   0.198346              0.235241   \n",
       "user_statuses_count             1.000000              0.172699   \n",
       "\n",
       "                     user_friends_count  user_hour  user_day  user_month  \\\n",
       "id                             0.002043   0.000113 -0.000872   -0.000906   \n",
       "timestamp                      0.002441  -0.010344 -0.583776    0.436845   \n",
       "retweet_count                  0.109533  -0.027470 -0.060642   -0.088498   \n",
       "user_verified                  0.049641  -0.007619 -0.043877   -0.046219   \n",
       "user_statuses_count            0.150665   0.014659 -0.016374   -0.024173   \n",
       "\n",
       "                     totalhashtag  \n",
       "id                       0.001048  \n",
       "timestamp               -0.013471  \n",
       "retweet_count            0.274102  \n",
       "user_verified            0.093272  \n",
       "user_statuses_count     -0.001115  "
      ]
     },
     "execution_count": 29,
     "metadata": {},
     "output_type": "execute_result"
    }
   ],
   "source": [
    "datacorr = train_data.corr()\n",
    "datacorr.head()"
   ]
  },
  {
   "cell_type": "code",
   "execution_count": 30,
   "metadata": {
    "ExecuteTime": {
     "end_time": "2020-11-30T21:48:19.442716Z",
     "start_time": "2020-11-30T21:48:18.968328Z"
    },
    "scrolled": true
   },
   "outputs": [
    {
     "data": {
      "text/plain": [
       "<matplotlib.axes._subplots.AxesSubplot at 0x7ff2f717ebe0>"
      ]
     },
     "execution_count": 30,
     "metadata": {},
     "output_type": "execute_result"
    },
    {
     "data": {
      "image/png": "[encoded data removed]",
      "text/plain": [
       "<Figure size 936x936 with 2 Axes>"
      ]
     },
     "metadata": {
      "needs_background": "light"
     },
     "output_type": "display_data"
    }
   ],
   "source": [
    "plt.figure(figsize = (13,13))\n",
    "sns.heatmap(datacorr, cmap = 'YlGnBu',square=True,annot=True)"
   ]
  },
  {
   "cell_type": "markdown",
   "metadata": {},
   "source": [
    "* the features that are highly correlated are the **number of followers**, **number of followees** and **number of statuses** and **user_verified** and also the **month** and if he puts **url**, which have a positive impact in the number of retweets"
   ]
  },
  {
   "cell_type": "markdown",
   "metadata": {},
   "source": [
    "## Logistic Regression\n"
   ]
  },
  {
   "cell_type": "code",
   "execution_count": 9,
   "metadata": {
    "ExecuteTime": {
     "end_time": "2020-11-30T21:43:43.668233Z",
     "start_time": "2020-11-30T21:43:01.775300Z"
    }
   },
   "outputs": [],
   "source": [
    "y = train_data.retweet_count \n",
    "for i in range(train_data.shape[0]):\n",
    "       if y[i] == 0:\n",
    "            y[i] = 0\n",
    "       elif y[i]>0 and y[i]<10:\n",
    "            y[i] = 1\n",
    "       elif y[i]>10 and y[i]<100:\n",
    "            y[i] = 2\n",
    "       else:\n",
    "            y[i] = 3"
   ]
  },
  {
   "cell_type": "code",
   "execution_count": 10,
   "metadata": {
    "ExecuteTime": {
     "end_time": "2020-11-30T21:43:45.950424Z",
     "start_time": "2020-11-30T21:43:43.669556Z"
    }
   },
   "outputs": [],
   "source": [
    "FE = FeatureExtraction(train_data)\n",
    "FE.transform()\n",
    "features = FE.transformed_data"
   ]
  },
  {
   "cell_type": "code",
   "execution_count": 11,
   "metadata": {
    "ExecuteTime": {
     "end_time": "2020-11-30T21:43:46.059816Z",
     "start_time": "2020-11-30T21:43:45.952167Z"
    }
   },
   "outputs": [],
   "source": [
    "X = features.drop(\"retweet_count\",axis=1)"
   ]
  },
  {
   "cell_type": "code",
   "execution_count": 13,
   "metadata": {
    "ExecuteTime": {
     "end_time": "2020-11-30T21:46:07.371205Z",
     "start_time": "2020-11-30T21:46:04.566064Z"
    }
   },
   "outputs": [],
   "source": [
    "X_train, X_test, y_train, y_test = scsplit(X, y, stratify=y, train_size=0.7,test_size=0.3)\n",
    "train_data_model = LogisticRegression()\n",
    "train_data_model.fit(X_train,y_train)\n",
    "y_pred=train_data_model.predict(X_test)"
   ]
  },
  {
   "cell_type": "code",
   "execution_count": 14,
   "metadata": {
    "ExecuteTime": {
     "end_time": "2020-11-30T21:46:07.500002Z",
     "start_time": "2020-11-30T21:46:07.495288Z"
    }
   },
   "outputs": [
    {
     "data": {
      "text/plain": [
       "0.5774079525769273"
      ]
     },
     "execution_count": 14,
     "metadata": {},
     "output_type": "execute_result"
    }
   ],
   "source": [
    "metrics.mean_absolute_error(y_test, y_pred)"
   ]
  },
  {
   "cell_type": "code",
   "execution_count": 15,
   "metadata": {
    "ExecuteTime": {
     "end_time": "2020-11-30T21:46:10.210005Z",
     "start_time": "2020-11-30T21:46:10.198807Z"
    }
   },
   "outputs": [
    {
     "data": {
      "text/plain": [
       "0.635054622648122"
      ]
     },
     "execution_count": 15,
     "metadata": {},
     "output_type": "execute_result"
    }
   ],
   "source": [
    "acc = accuracy_score(y_test,y_pred)\n",
    "acc"
   ]
  },
  {
   "cell_type": "markdown",
   "metadata": {},
   "source": [
    "## Evaluation "
   ]
  },
  {
   "cell_type": "code",
   "execution_count": 16,
   "metadata": {
    "ExecuteTime": {
     "end_time": "2020-11-30T21:46:25.552919Z",
     "start_time": "2020-11-30T21:46:24.060042Z"
    }
   },
   "outputs": [],
   "source": [
    "eval_data = pd.read_csv(\"data/evaluation.csv\")\n",
    "FE_eval = FeatureExtraction(eval_data)\n",
    "FE_eval.transform()"
   ]
  },
  {
   "cell_type": "code",
   "execution_count": 20,
   "metadata": {
    "ExecuteTime": {
     "end_time": "2020-11-30T21:46:52.689605Z",
     "start_time": "2020-11-30T21:46:52.679568Z"
    }
   },
   "outputs": [],
   "source": [
    "trans_eval_data = FE_eval.transformed_data\n",
    "X_eval = trans_eval_data.drop(\"text\",axis=1)"
   ]
  },
  {
   "cell_type": "code",
   "execution_count": 21,
   "metadata": {
    "ExecuteTime": {
     "end_time": "2020-11-30T21:46:53.389048Z",
     "start_time": "2020-11-30T21:46:53.300873Z"
    }
   },
   "outputs": [],
   "source": [
    "sc = StandardScaler()\n",
    "X_eval = sc.fit_transform(X_eval.values)"
   ]
  },
  {
   "cell_type": "markdown",
   "metadata": {},
   "source": [
    "## Prediction for Logistic Regression"
   ]
  },
  {
   "cell_type": "code",
   "execution_count": 23,
   "metadata": {
    "ExecuteTime": {
     "end_time": "2020-11-30T21:47:11.503572Z",
     "start_time": "2020-11-30T21:47:11.482754Z"
    }
   },
   "outputs": [],
   "source": [
    "y_eval_pred_logistic = train_data_model.predict(X_eval)"
   ]
  },
  {
   "cell_type": "code",
   "execution_count": 26,
   "metadata": {
    "ExecuteTime": {
     "end_time": "2020-11-30T21:47:33.741585Z",
     "start_time": "2020-11-30T21:47:31.232250Z"
    }
   },
   "outputs": [],
   "source": [
    "with open(\"logistic_regression.txt\", 'w') as f:\n",
    "    writer = csv.writer(f)\n",
    "    writer.writerow([\"TweetID\", \"NoRetweets\"])\n",
    "    for index, prediction in enumerate(y_eval_pred_logistic):\n",
    "        writer.writerow([str(trans_eval_data['id'].iloc[index]) , str(int(prediction))])"
   ]
  }
 ],
 "metadata": {
  "hide_input": false,
  "kernelspec": {
   "display_name": "Python 3",
   "language": "python",
   "name": "python3"
  },
  "language_info": {
   "codemirror_mode": {
    "name": "ipython",
    "version": 3
   },
   "file_extension": ".py",
   "mimetype": "text/x-python",
   "name": "python",
   "nbconvert_exporter": "python",
   "pygments_lexer": "ipython3",
   "version": "3.8.3"
  },
  "latex_envs": {
   "LaTeX_envs_menu_present": true,
   "autoclose": false,
   "autocomplete": true,
   "bibliofile": "biblio.bib",
   "cite_by": "apalike",
   "current_citInitial": 1,
   "eqLabelWithNumbers": true,
   "eqNumInitial": 1,
   "hotkeys": {
    "equation": "Ctrl-E",
    "itemize": "Ctrl-I"
   },
   "labels_anchors": false,
   "latex_user_defs": false,
   "report_style_numbering": false,
   "user_envs_cfg": false
  },
  "nbTranslate": {
   "displayLangs": [
    "*"
   ],
   "hotkey": "alt-t",
   "langInMainMenu": true,
   "sourceLang": "en",
   "targetLang": "fr",
   "useGoogleTranslate": true
  },
  "toc": {
   "base_numbering": 1,
   "nav_menu": {},
   "number_sections": true,
   "sideBar": true,
   "skip_h1_title": false,
   "title_cell": "Table of Contents",
   "title_sidebar": "Contents",
   "toc_cell": false,
   "toc_position": {},
   "toc_section_display": true,
   "toc_window_display": false
  },
  "varInspector": {
   "cols": {
    "lenName": 16,
    "lenType": 16,
    "lenVar": 40
   },
   "kernels_config": {
    "python": {
     "delete_cmd_postfix": "",
     "delete_cmd_prefix": "del ",
     "library": "var_list.py",
     "varRefreshCmd": "print(var_dic_list())"
    },
    "r": {
     "delete_cmd_postfix": ") ",
     "delete_cmd_prefix": "rm(",
     "library": "var_list.r",
     "varRefreshCmd": "cat(var_dic_list()) "
    }
   },
   "types_to_exclude": [
    "module",
    "function",
    "builtin_function_or_method",
    "instance",
    "_Feature"
   ],
   "window_display": false
  }
 },
 "nbformat": 4,
 "nbformat_minor": 4
}
